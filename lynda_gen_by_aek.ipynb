{
  "nbformat": 4,
  "nbformat_minor": 0,
  "metadata": {
    "colab": {
      "name": "lynda gen by aek.ipynb",
      "provenance": []
    },
    "kernelspec": {
      "name": "python3",
      "display_name": "Python 3"
    }
  },
  "cells": [
    {
      "cell_type": "code",
      "metadata": {
        "id": "-gbQYuulkill",
        "colab_type": "code",
        "cellView": "form",
        "colab": {}
      },
      "source": [
        "#@title INSTALL THIS FIRST\n",
        "\n",
        "!git clone https://github.com/kadirov31000/vvcdsxfvdcxsfcdsxfdsfvdcxs.git\n",
        "!pip install -r /content/vvcdsxfvdcxsfcdsxfdsfvdcxs/requirements.txt\n",
        "!apt-get update \n",
        "!apt install chromium-chromedriver\n",
        "from IPython.display import HTML, clear_output\n",
        "clear_output()\n",
        "display(HTML(\"<center><h2 style=\\\"font-family:Trebuchet MS;color:#4f8bd6;\\\">Successfully installed !</h2><br></center>\"))\n"
      ],
      "execution_count": 0,
      "outputs": []
    },
    {
      "cell_type": "code",
      "metadata": {
        "id": "D-t7Y3Wo5y4a",
        "colab_type": "code",
        "colab": {},
        "cellView": "form"
      },
      "source": [
        "#@title update \n",
        "!rm -rf vvcdsxfvdcxsfcdsxfdsfvdcxs  \n",
        "!git clone https://github.com/kadirov31000/vvcdsxfvdcxsfcdsxfdsfvdcxs.git\n",
        "!pip install -r /content/vvcdsxfvdcxsfcdsxfdsfvdcxs/requirements.txt\n",
        "!apt-get update \n",
        "!apt install chromium-chromedriver\n",
        "from IPython.display import HTML, clear_output\n",
        "clear_output()\n",
        "display(HTML(\"<center><h2 style=\\\"font-family:Trebuchet MS;color:#4f8bd6;\\\">Successfully updated !</h2><br></center>\"))\n"
      ],
      "execution_count": 0,
      "outputs": []
    },
    {
      "cell_type": "code",
      "metadata": {
        "id": "VzxTreHapMJ7",
        "colab_type": "code",
        "colab": {},
        "cellView": "form"
      },
      "source": [
        "#@markdown <br><center><img src='https://encrypted-tbn0.gstatic.com/images?q=tbn%3AANd9GcSjulsKzGuTJir-9c6s2FmTRYyZLgVWtqjjbDTCqB_482J8ieAg&usqp=CAU' height=\"130\" alt=\"Lynda-logo\"/></center>\n",
        "#@markdown <center><h3>Lynda generator</h3></center><br>\n",
        "!python /content/vvcdsxfvdcxsfcdsxfdsfvdcxs/bot.py\n",
        "\n",
        "\n",
        "from IPython.display import HTML, clear_output\n",
        "clear_output()\n",
        "display(HTML(\"<center><h2 style=\\\"font-family:Trebuchet MS;color:#4f8bd6;\\\">Successfully !</h2><br></center>\"))\n",
        "f=open(\"/content/accountinfo.txt\", \"r\")\n",
        "contents =f.read()\n",
        "print(contents)"
      ],
      "execution_count": 0,
      "outputs": []
    }
  ]
}